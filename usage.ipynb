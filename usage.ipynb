{
 "cells": [
  {
   "cell_type": "markdown",
   "metadata": {},
   "source": [
    "# On-Demand API 使用指南\n",
    "\n",
    "实时爬取 Twitter 数据的 HTTP 接口。\n",
    "\n",
    "**API 地址**: `http://34.68.50.220:8000`"
   ]
  },
  {
   "cell_type": "markdown",
   "metadata": {},
   "source": [
    "## 准备工作\n",
    "\n",
    "安装必要的库："
   ]
  },
  {
   "cell_type": "code",
   "execution_count": null,
   "metadata": {},
   "outputs": [],
   "source": [
    "# 如果没有安装 requests，运行这行\n",
    "# !pip install requests\n",
    "\n",
    "import requests\n",
    "from datetime import datetime, timedelta\n",
    "from pprint import pprint\n",
    "import json"
   ]
  },
  {
   "cell_type": "markdown",
   "metadata": {},
   "source": [
    "## 1. 健康检查\n",
    "\n",
    "测试 API 是否可用："
   ]
  },
  {
   "cell_type": "code",
   "execution_count": null,
   "metadata": {},
   "outputs": [],
   "source": [
    "# 健康检查\n",
    "health_url = \"http://34.68.50.220:8000/api/v1/health\"\n",
    "response = requests.get(health_url)\n",
    "\n",
    "print(f\"状态码: {response.status_code}\")\n",
    "pprint(response.json())"
   ]
  },
  {
   "cell_type": "markdown",
   "metadata": {},
   "source": [
    "## 2. 基础用法：搜索单个关键词\n",
    "\n",
    "最简单的使用方式："
   ]
  },
  {
   "cell_type": "code",
   "execution_count": null,
   "metadata": {},
   "outputs": [],
   "source": [
    "# API 端点\n",
    "api_url = \"http://34.68.50.220:8000/api/v1/on_demand_scrape\"\n",
    "\n",
    "# 请求参数\n",
    "payload = {\n",
    "    \"keywords\": [\"bitcoin\"],\n",
    "    \"limit\": 20\n",
    "}\n",
    "\n",
    "# 发送请求\n",
    "response = requests.post(api_url, json=payload, timeout=120)\n",
    "result = response.json()\n",
    "\n",
    "# 查看结果\n",
    "print(f\"成功: {result['success']}\")\n",
    "print(f\"获取推文数: {result['count']}\")\n",
    "print(f\"执行耗时: {result['execution_time_seconds']} 秒\")\n",
    "print(f\"搜索条件: {result['query']}\")"
   ]
  },
  {
   "cell_type": "markdown",
   "metadata": {},
   "source": [
    "查看第一条推文："
   ]
  },
  {
   "cell_type": "code",
   "execution_count": null,
   "metadata": {},
   "outputs": [],
   "source": [
    "if result['data']:\n",
    "    first_tweet = result['data'][0]\n",
    "    \n",
    "    print(f\"推文URL: {first_tweet['uri']}\")\n",
    "    print(f\"发布时间: {first_tweet['datetime']}\")\n",
    "    print(f\"\\n作者: @{first_tweet['content']['username']}\")\n",
    "    print(f\"内容: {first_tweet['content']['text']}\")\n",
    "    print(f\"\\n互动数据:\")\n",
    "    print(f\"  点赞: {first_tweet['content']['like_count']}\")\n",
    "    print(f\"  转发: {first_tweet['content']['retweet_count']}\")\n",
    "    print(f\"  回复: {first_tweet['content']['reply_count']}\")\n",
    "    print(f\"  浏览: {first_tweet['content']['view_count']}\")"
   ]
  },
  {
   "cell_type": "markdown",
   "metadata": {},
   "source": [
    "## 3. 多关键词搜索（AND 逻辑）\n",
    "\n",
    "搜索同时包含多个关键词的推文："
   ]
  },
  {
   "cell_type": "code",
   "execution_count": null,
   "metadata": {},
   "outputs": [],
   "source": [
    "payload = {\n",
    "    \"keywords\": [\"bitcoin\", \"price\"],\n",
    "    \"keyword_mode\": \"all\",  # 必须同时包含 bitcoin 和 price\n",
    "    \"limit\": 50\n",
    "}\n",
    "\n",
    "response = requests.post(api_url, json=payload, timeout=120)\n",
    "result = response.json()\n",
    "\n",
    "print(f\"搜索条件: {result['query']}\")\n",
    "print(f\"获取推文数: {result['count']}\")"
   ]
  },
  {
   "cell_type": "markdown",
   "metadata": {},
   "source": [
    "## 4. 多关键词搜索（OR 逻辑）\n",
    "\n",
    "搜索包含任一关键词的推文："
   ]
  },
  {
   "cell_type": "code",
   "execution_count": null,
   "metadata": {},
   "outputs": [],
   "source": [
    "payload = {\n",
    "    \"keywords\": [\"bitcoin\", \"ethereum\"],\n",
    "    \"keyword_mode\": \"any\",  # 包含 bitcoin 或 ethereum 即可\n",
    "    \"limit\": 50\n",
    "}\n",
    "\n",
    "response = requests.post(api_url, json=payload, timeout=120)\n",
    "result = response.json()\n",
    "\n",
    "print(f\"搜索条件: {result['query']}\")\n",
    "print(f\"获取推文数: {result['count']}\")"
   ]
  },
  {
   "cell_type": "markdown",
   "metadata": {},
   "source": [
    "## 5. 指定时间范围\n",
    "\n",
    "搜索指定日期范围内的推文："
   ]
  },
  {
   "cell_type": "code",
   "execution_count": null,
   "metadata": {},
   "outputs": [],
   "source": [
    "# 搜索最近 7 天的推文\n",
    "end_date = datetime.now()\n",
    "start_date = end_date - timedelta(days=7)\n",
    "\n",
    "payload = {\n",
    "    \"keywords\": [\"AI\"],\n",
    "    \"start_date\": start_date.strftime(\"%Y-%m-%dT%H:%M:%S\"),\n",
    "    \"end_date\": end_date.strftime(\"%Y-%m-%dT%H:%M:%S\"),\n",
    "    \"limit\": 100\n",
    "}\n",
    "\n",
    "response = requests.post(api_url, json=payload, timeout=120)\n",
    "result = response.json()\n",
    "\n",
    "print(f\"搜索条件: {result['query']}\")\n",
    "print(f\"时间范围: {start_date.date()} 至 {end_date.date()}\")\n",
    "print(f\"获取推文数: {result['count']}\")"
   ]
  },
  {
   "cell_type": "markdown",
   "metadata": {},
   "source": [
    "## 6. 搜索指定用户的推文\n",
    "\n",
    "获取特定用户发布的推文："
   ]
  },
  {
   "cell_type": "code",
   "execution_count": null,
   "metadata": {},
   "outputs": [],
   "source": [
    "payload = {\n",
    "    \"usernames\": [\"elonmusk\"],\n",
    "    \"limit\": 30\n",
    "}\n",
    "\n",
    "response = requests.post(api_url, json=payload, timeout=120)\n",
    "result = response.json()\n",
    "\n",
    "print(f\"搜索条件: {result['query']}\")\n",
    "print(f\"获取推文数: {result['count']}\")"
   ]
  },
  {
   "cell_type": "markdown",
   "metadata": {},
   "source": [
    "## 7. 组合搜索（用户 + 关键词）\n",
    "\n",
    "搜索特定用户包含特定关键词的推文："
   ]
  },
  {
   "cell_type": "code",
   "execution_count": null,
   "metadata": {},
   "outputs": [],
   "source": [
    "payload = {\n",
    "    \"keywords\": [\"AI\"],\n",
    "    \"usernames\": [\"OpenAI\", \"AnthropicAI\"],\n",
    "    \"limit\": 50\n",
    "}\n",
    "\n",
    "response = requests.post(api_url, json=payload, timeout=120)\n",
    "result = response.json()\n",
    "\n",
    "print(f\"搜索条件: {result['query']}\")\n",
    "print(f\"获取推文数: {result['count']}\")"
   ]
  },
  {
   "cell_type": "markdown",
   "metadata": {},
   "source": [
    "## 8. 数据处理示例\n",
    "\n",
    "将返回的数据转换为表格格式："
   ]
  },
  {
   "cell_type": "code",
   "execution_count": null,
   "metadata": {},
   "outputs": [],
   "source": [
    "# 提取关键字段\n",
    "def extract_tweet_info(tweet_data):\n",
    "    tweets = []\n",
    "    for item in tweet_data:\n",
    "        content = item['content']\n",
    "        tweets.append({\n",
    "            '用户名': content['username'],\n",
    "            '发布时间': item['datetime'],\n",
    "            '推文内容': content['text'][:100] + '...' if len(content['text']) > 100 else content['text'],\n",
    "            '点赞数': content['like_count'],\n",
    "            '转发数': content['retweet_count'],\n",
    "            '浏览数': content['view_count'],\n",
    "            '链接': item['uri']\n",
    "        })\n",
    "    return tweets\n",
    "\n",
    "# 使用示例\n",
    "if result['data']:\n",
    "    tweets_info = extract_tweet_info(result['data'])\n",
    "    \n",
    "    # 打印前 5 条\n",
    "    for i, tweet in enumerate(tweets_info[:5], 1):\n",
    "        print(f\"\\n=== 推文 {i} ===\")\n",
    "        for key, value in tweet.items():\n",
    "            print(f\"{key}: {value}\")"
   ]
  },
  {
   "cell_type": "markdown",
   "metadata": {},
   "source": [
    "使用 pandas 展示（需要安装 pandas）："
   ]
  },
  {
   "cell_type": "code",
   "execution_count": null,
   "metadata": {},
   "outputs": [],
   "source": [
    "# 取消注释以安装 pandas\n",
    "# !pip install pandas\n",
    "\n",
    "import pandas as pd\n",
    "\n",
    "if result['data']:\n",
    "    tweets_info = extract_tweet_info(result['data'])\n",
    "    df = pd.DataFrame(tweets_info)\n",
    "    display(df)"
   ]
  },
  {
   "cell_type": "markdown",
   "metadata": {},
   "source": [
    "## 9. 错误处理\n",
    "\n",
    "完整的错误处理示例："
   ]
  },
  {
   "cell_type": "code",
   "execution_count": null,
   "metadata": {},
   "outputs": [],
   "source": [
    "def fetch_tweets(payload, max_retries=3):\n",
    "    \"\"\"\n",
    "    获取推文，带重试机制\n",
    "    \"\"\"\n",
    "    api_url = \"http://34.68.50.220:8000/api/v1/on_demand_scrape\"\n",
    "    \n",
    "    for attempt in range(max_retries):\n",
    "        try:\n",
    "            response = requests.post(api_url, json=payload, timeout=120)\n",
    "            response.raise_for_status()\n",
    "            \n",
    "            result = response.json()\n",
    "            print(f\"✓ 成功获取 {result['count']} 条推文\")\n",
    "            print(f\"  耗时: {result['execution_time_seconds']} 秒\")\n",
    "            return result\n",
    "            \n",
    "        except requests.Timeout:\n",
    "            print(f\"✗ 请求超时 (尝试 {attempt + 1}/{max_retries})\")\n",
    "            if attempt < max_retries - 1:\n",
    "                print(\"  等待 10 秒后重试...\")\n",
    "                import time\n",
    "                time.sleep(10)\n",
    "                \n",
    "        except requests.HTTPError as e:\n",
    "            status_code = e.response.status_code\n",
    "            \n",
    "            if status_code == 400:\n",
    "                print(f\"✗ 参数错误: {e.response.json()}\")\n",
    "                return None\n",
    "            elif status_code == 408:\n",
    "                print(f\"✗ 请求超时，建议减少 limit 或缩小时间范围\")\n",
    "                return None\n",
    "            elif status_code == 503:\n",
    "                print(f\"✗ 服务暂时不可用 (尝试 {attempt + 1}/{max_retries})\")\n",
    "                if attempt < max_retries - 1:\n",
    "                    print(\"  等待 30 秒后重试...\")\n",
    "                    import time\n",
    "                    time.sleep(30)\n",
    "            else:\n",
    "                print(f\"✗ HTTP 错误 {status_code}: {e.response.text}\")\n",
    "                return None\n",
    "                \n",
    "        except Exception as e:\n",
    "            print(f\"✗ 未知错误: {e}\")\n",
    "            return None\n",
    "    \n",
    "    print(f\"✗ 达到最大重试次数，失败\")\n",
    "    return None\n",
    "\n",
    "# 使用示例\n",
    "payload = {\n",
    "    \"keywords\": [\"crypto\"],\n",
    "    \"limit\": 50\n",
    "}\n",
    "\n",
    "result = fetch_tweets(payload)"
   ]
  },
  {
   "cell_type": "markdown",
   "metadata": {},
   "source": [
    "## 10. 保存结果\n",
    "\n",
    "将结果保存到文件："
   ]
  },
  {
   "cell_type": "code",
   "execution_count": null,
   "metadata": {},
   "outputs": [],
   "source": [
    "# 保存为 JSON\n",
    "if result and result['data']:\n",
    "    with open('tweets_result.json', 'w', encoding='utf-8') as f:\n",
    "        json.dump(result, f, ensure_ascii=False, indent=2)\n",
    "    print(\"✓ 结果已保存到 tweets_result.json\")\n",
    "\n",
    "# 保存为 CSV\n",
    "if result and result['data']:\n",
    "    import pandas as pd\n",
    "    tweets_info = extract_tweet_info(result['data'])\n",
    "    df = pd.DataFrame(tweets_info)\n",
    "    df.to_csv('tweets_result.csv', index=False, encoding='utf-8')\n",
    "    print(\"✓ 结果已保存到 tweets_result.csv\")"
   ]
  },
  {
   "cell_type": "markdown",
   "metadata": {},
   "source": [
    "## 参数说明\n",
    "\n",
    "| 参数 | 类型 | 必填 | 默认值 | 说明 |\n",
    "|------|------|------|-----------|------|\n",
    "| `keywords` | 字符串数组 | 否* | - | 搜索关键词（1-10个） |\n",
    "| `usernames` | 字符串数组 | 否* | - | Twitter 用户名（1-10个） |\n",
    "| `keyword_mode` | 字符串 | 否 | `\"all\"` | `\"all\"` = 必须包含所有关键词<br>`\"any\"` = 包含任一关键词即可 |\n",
    "| `start_date` | 时间字符串 | 否 | - | 起始时间，格式 `YYYY-MM-DDTHH:MM:SS` |\n",
    "| `end_date` | 时间字符串 | 否 | - | 结束时间，格式 `YYYY-MM-DDTHH:MM:SS` |\n",
    "| `limit` | 整数 | 否 | `100` | 返回推文数量（1-500） |\n",
    "\n",
    "**注意**: `keywords` 和 `usernames` 至少提供一个"
   ]
  },
  {
   "cell_type": "markdown",
   "metadata": {},
   "source": [
    "## 性能参考\n",
    "\n",
    "- 爬取 20 条推文：约 10-15 秒\n",
    "- 爬取 100 条推文：约 20-30 秒\n",
    "- 超时限制：90 秒\n",
    "\n",
    "## 使用建议\n",
    "\n",
    "1. **limit 设置**：根据需求设置，建议 20-100 条\n",
    "2. **时间范围**：建议单次不超过 1 个月\n",
    "3. **超时处理**：客户端超时设置建议 120 秒"
   ]
  }
 ],
 "metadata": {
  "kernelspec": {
   "display_name": "Python 3",
   "language": "python",
   "name": "python3"
  },
  "language_info": {
   "codemirror_mode": {
    "name": "ipython",
    "version": 3
   },
   "file_extension": ".py",
   "mimetype": "text/x-python",
   "name": "python",
   "nbconvert_exporter": "python",
   "pygments_lexer": "ipython3",
   "version": "3.8.0"
  }
 },
 "nbformat": 4,
 "nbformat_minor": 4
}
